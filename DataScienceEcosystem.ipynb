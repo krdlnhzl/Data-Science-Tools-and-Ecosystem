{
  "metadata": {
    "kernelspec": {
      "name": "python",
      "display_name": "Python (Pyodide)",
      "language": "python"
    },
    "language_info": {
      "codemirror_mode": {
        "name": "python",
        "version": 3
      },
      "file_extension": ".py",
      "mimetype": "text/x-python",
      "name": "python",
      "nbconvert_exporter": "python",
      "pygments_lexer": "ipython3",
      "version": "3.8"
    },
    "colab": {
      "provenance": []
    }
  },
  "nbformat_minor": 0,
  "nbformat": 4,
  "cells": [
    {
      "cell_type": "markdown",
      "source": [
        "<h1>Data Science Tools and Ecosystem<h1>"
      ],
      "metadata": {
        "id": "A7h00LZP8U7x"
      }
    },
    {
      "cell_type": "markdown",
      "source": [
        "In this notebook, Data Science Tools and Ecosystem are summarized."
      ],
      "metadata": {
        "id": "z1gFolO18U70"
      }
    },
    {
      "cell_type": "markdown",
      "source": [
        "Some of the popular languages that Data Scientists use are:\n",
        "1. Python\n",
        "2. Julia\n",
        "3. R"
      ],
      "metadata": {
        "id": "p6DF7DoF8U71"
      }
    },
    {
      "cell_type": "markdown",
      "source": [
        "Some of the commonly used libraries used by Data Scientists include:\n",
        "1. NumPy\n",
        "2. PyTorch\n",
        "3. TensorFlow"
      ],
      "metadata": {
        "id": "llwtpEXy8U71"
      }
    },
    {
      "cell_type": "markdown",
      "source": [
        "|Data Science Tools |\n",
        "|:--------:|\n",
        "|  Spark   |\n",
        "|  KNIME   |  \n",
        "|  Hadoop   |  "
      ],
      "metadata": {
        "id": "5EFvOQd98U71"
      }
    },
    {
      "cell_type": "markdown",
      "source": [
        "<h3>Below are a few examples of evaluating arithmetic expressions in Python<h3>"
      ],
      "metadata": {
        "id": "i1eNT8fO8U71"
      }
    },
    {
      "cell_type": "markdown",
      "source": [],
      "metadata": {
        "id": "s7ss11e18U72"
      }
    },
    {
      "cell_type": "code",
      "source": [
        "# This a simple arithmetic expression to mutiply then add integers\n",
        "(3*7)+5"
      ],
      "metadata": {
        "trusted": true,
        "colab": {
          "base_uri": "https://localhost:8080/"
        },
        "id": "aaa4Y8bd8U72",
        "outputId": "59f0cd94-b5c1-4bd2-b811-3d5a0ae2106c"
      },
      "outputs": [
        {
          "output_type": "execute_result",
          "data": {
            "text/plain": [
              "26"
            ]
          },
          "metadata": {},
          "execution_count": 3
        }
      ],
      "execution_count": 3
    },
    {
      "cell_type": "code",
      "source": [
        "# This will convert 200 minutes to hours by diving by 60\n",
        "print(211 / 6)"
      ],
      "metadata": {
        "trusted": true,
        "colab": {
          "base_uri": "https://localhost:8080/"
        },
        "id": "PfpWmf_y8U74",
        "outputId": "b59c1d3d-acb8-4d2e-b588-50bb273c9a36"
      },
      "outputs": [
        {
          "output_type": "stream",
          "name": "stdout",
          "text": [
            "35.166666666666664\n"
          ]
        }
      ],
      "execution_count": 2
    },
    {
      "cell_type": "markdown",
      "source": [
        " <b>Objectives:</b>  List popular languages for Data Science.\n",
        " - Python\n",
        " - Julia\n",
        " - R"
      ],
      "metadata": {
        "id": "9feeQPUi8U74"
      }
    },
    {
      "cell_type": "markdown",
      "source": [
        "<h2>Author</h2>\n",
        "KARDELEN HAZAL COŞKUN"
      ],
      "metadata": {
        "id": "7G2SG1578U74"
      }
    },
    {
      "cell_type": "code",
      "source": [],
      "metadata": {
        "trusted": true,
        "id": "Enb7PwM_8U74"
      },
      "outputs": [],
      "execution_count": null
    }
  ]
}